{
  "nbformat": 4,
  "nbformat_minor": 0,
  "metadata": {
    "colab": {
      "provenance": []
    },
    "kernelspec": {
      "name": "python3",
      "display_name": "Python 3"
    },
    "language_info": {
      "name": "python"
    }
  },
  "cells": [
    {
      "cell_type": "code",
      "source": [
        "import math\n",
        "# ---------------------------\n",
        "# 1️⃣  Sample Corpus\n",
        "# ---------------------------\n",
        "docs = [\n",
        "    \"the sky is blue\",\n",
        "    \"the sun is bright\",\n",
        "    \"the sun in the sky is bright\",\n",
        "    \"we can see the shining sun, the bright sun\"\n",
        "]\n",
        "\n",
        "# Preprocess: simple tokenization\n",
        "corpus = [doc.lower().replace(\",\", \"\").split() for doc in docs]\n",
        "N = len(corpus)\n",
        "print(\"Sample Corpus:\\n\", corpus)\n",
        "print(\"Number of Documents:\", N)"
      ],
      "metadata": {
        "colab": {
          "base_uri": "https://localhost:8080/"
        },
        "id": "rp8FO5Y2eohT",
        "outputId": "f8b9ee72-8411-4935-d5a8-5b11fe0370c3"
      },
      "execution_count": 6,
      "outputs": [
        {
          "output_type": "stream",
          "name": "stdout",
          "text": [
            "Sample Corpus:\n",
            " [['the', 'sky', 'is', 'blue'], ['the', 'sun', 'is', 'bright'], ['the', 'sun', 'in', 'the', 'sky', 'is', 'bright'], ['we', 'can', 'see', 'the', 'shining', 'sun', 'the', 'bright', 'sun']]\n",
            "Number of Documents: 4\n"
          ]
        }
      ]
    },
    {
      "cell_type": "code",
      "source": [
        "# ---------------------------\n",
        "# 5️⃣ Calculate word counts\n",
        "# ---------------------------\n",
        "def count_words(doc):\n",
        "    return len(doc)\n",
        "\n",
        "word_counts = [count_words(doc) for doc in corpus]\n",
        "\n",
        "print(\"\\nWord counts per document:\\n\", word_counts)"
      ],
      "metadata": {
        "colab": {
          "base_uri": "https://localhost:8080/"
        },
        "id": "K7w9futtgPTK",
        "outputId": "bf753e27-2820-468d-cb6e-92b3e52c84c2"
      },
      "execution_count": 7,
      "outputs": [
        {
          "output_type": "stream",
          "name": "stdout",
          "text": [
            "\n",
            "Word counts per document:\n",
            " [4, 4, 7, 9]\n"
          ]
        }
      ]
    },
    {
      "cell_type": "code",
      "source": [
        "# ---------------------------\n",
        "# 6️⃣ Calculate unique word counts\n",
        "# ---------------------------\n",
        "def count_unique_words(doc):\n",
        "    return len(set(doc))\n",
        "\n",
        "unique_word_counts = [count_unique_words(doc) for doc in corpus]\n",
        "\n",
        "print(\"\\nUnique word counts per document:\\n\", unique_word_counts)\n",
        "\n",
        "all_words = [word for doc in corpus for word in doc]\n",
        "unique_words_in_corpus = len(set(all_words))\n",
        "\n",
        "print(\"\\nTotal number of unique words in the corpus:\", unique_words_in_corpus)"
      ],
      "metadata": {
        "colab": {
          "base_uri": "https://localhost:8080/"
        },
        "id": "S_jbspKNgYtt",
        "outputId": "bf11be6c-66df-4e83-94b4-b25e24306fa3"
      },
      "execution_count": 8,
      "outputs": [
        {
          "output_type": "stream",
          "name": "stdout",
          "text": [
            "\n",
            "Unique word counts per document:\n",
            " [4, 4, 6, 7]\n",
            "\n",
            "Total number of unique words in the corpus: 11\n"
          ]
        }
      ]
    },
    {
      "cell_type": "code",
      "source": [
        "# ---------------------------\n",
        "# 2️⃣  Compute Term Frequency (TF)\n",
        "# ---------------------------\n",
        "def compute_tf(doc):\n",
        "    tf = {}\n",
        "    total_terms = len(doc)\n",
        "    for term in doc:\n",
        "        tf[term] = tf.get(term, 0) + 1\n",
        "    for term in tf:\n",
        "        tf[term] = tf[term] / total_terms   # normalize\n",
        "    return tf\n",
        "\n",
        "tf_docs = [compute_tf(doc) for doc in corpus]\n",
        "\n",
        "print(\"TF Example for Doc 1:\\n\", tf_docs[0])"
      ],
      "metadata": {
        "colab": {
          "base_uri": "https://localhost:8080/"
        },
        "id": "0d_brL-AerG4",
        "outputId": "822dd9a4-df27-4512-cb31-e2b33dda4f28"
      },
      "execution_count": 2,
      "outputs": [
        {
          "output_type": "stream",
          "name": "stdout",
          "text": [
            "TF Example for Doc 1:\n",
            " {'the': 0.25, 'sky': 0.25, 'is': 0.25, 'blue': 0.25}\n"
          ]
        }
      ]
    },
    {
      "cell_type": "code",
      "source": [
        "# ---------------------------\n",
        "# 7️⃣ Print all TF values\n",
        "# ---------------------------\n",
        "print(\"\\nTerm Frequency (TF) values for all documents:\")\n",
        "for i, tf_doc in enumerate(tf_docs):\n",
        "    print(f\"\\nDocument {i+1}:\")\n",
        "    for term, value in tf_doc.items():\n",
        "        print(f\"  {term}: {round(value, 3)}\")"
      ],
      "metadata": {
        "colab": {
          "base_uri": "https://localhost:8080/"
        },
        "id": "ky6vyPiCiLdG",
        "outputId": "c7fe4fc0-9d2a-420e-ea26-c796f506d6af"
      },
      "execution_count": 9,
      "outputs": [
        {
          "output_type": "stream",
          "name": "stdout",
          "text": [
            "\n",
            "Term Frequency (TF) values for all documents:\n",
            "\n",
            "Document 1:\n",
            "  the: 0.25\n",
            "  sky: 0.25\n",
            "  is: 0.25\n",
            "  blue: 0.25\n",
            "\n",
            "Document 2:\n",
            "  the: 0.25\n",
            "  sun: 0.25\n",
            "  is: 0.25\n",
            "  bright: 0.25\n",
            "\n",
            "Document 3:\n",
            "  the: 0.286\n",
            "  sun: 0.143\n",
            "  in: 0.143\n",
            "  sky: 0.143\n",
            "  is: 0.143\n",
            "  bright: 0.143\n",
            "\n",
            "Document 4:\n",
            "  we: 0.111\n",
            "  can: 0.111\n",
            "  see: 0.111\n",
            "  the: 0.222\n",
            "  shining: 0.111\n",
            "  sun: 0.222\n",
            "  bright: 0.111\n"
          ]
        }
      ]
    },
    {
      "cell_type": "code",
      "source": [
        "# ---------------------------\n",
        "# 3️⃣  Compute Inverse Document Frequency (IDF)\n",
        "# ---------------------------\n",
        "def compute_idf(corpus):\n",
        "    idf = {}\n",
        "    all_terms = set(term for doc in corpus for term in doc)\n",
        "    for term in all_terms:\n",
        "        containing_docs = sum(1 for doc in corpus if term in doc)\n",
        "        idf[term] = math.log10((N + 1) / (containing_docs + 1)) + 1  # This is add 1 smoothing, +1 smoothing\n",
        "    return idf\n",
        "\n",
        "idf = compute_idf(corpus)\n",
        "\n",
        "print(\"\\nSample IDF values:\\n\", {k: round(v, 3) for k, v in list(idf.items())[:5]})\n"
      ],
      "metadata": {
        "colab": {
          "base_uri": "https://localhost:8080/"
        },
        "id": "pirk0iCtevbL",
        "outputId": "6521fb0c-a621-41a2-caa4-f8f6d3c6553e"
      },
      "execution_count": 3,
      "outputs": [
        {
          "output_type": "stream",
          "name": "stdout",
          "text": [
            "\n",
            "Sample IDF values:\n",
            " {'is': 1.097, 'sun': 1.097, 'can': 1.398, 'bright': 1.097, 'sky': 1.222}\n"
          ]
        }
      ]
    },
    {
      "cell_type": "code",
      "source": [
        "# ---------------------------\n",
        "# 8️⃣ Print all IDF values\n",
        "# ---------------------------\n",
        "print(\"\\nInverse Document Frequency (IDF) values for all terms:\")\n",
        "for term, value in idf.items():\n",
        "    print(f\"  {term}: {round(value, 3)}\")"
      ],
      "metadata": {
        "colab": {
          "base_uri": "https://localhost:8080/"
        },
        "id": "2BeWjf29idKa",
        "outputId": "db482a15-59d4-43fb-a2de-ca27e370aff2"
      },
      "execution_count": 10,
      "outputs": [
        {
          "output_type": "stream",
          "name": "stdout",
          "text": [
            "\n",
            "Inverse Document Frequency (IDF) values for all terms:\n",
            "  is: 1.097\n",
            "  sun: 1.097\n",
            "  can: 1.398\n",
            "  bright: 1.097\n",
            "  sky: 1.222\n",
            "  the: 1.0\n",
            "  in: 1.398\n",
            "  shining: 1.398\n",
            "  see: 1.398\n",
            "  blue: 1.398\n",
            "  we: 1.398\n"
          ]
        }
      ]
    },
    {
      "cell_type": "code",
      "execution_count": 4,
      "metadata": {
        "colab": {
          "base_uri": "https://localhost:8080/"
        },
        "id": "Q1VzsRy_ekYb",
        "outputId": "35e5576d-1d11-4911-9087-19697d8ab3f5"
      },
      "outputs": [
        {
          "output_type": "stream",
          "name": "stdout",
          "text": [
            "\n",
            "TF-IDF Example for Doc 1:\n",
            " {'the': 0.25, 'sky': 0.305, 'is': 0.274, 'blue': 0.349}\n"
          ]
        }
      ],
      "source": [
        "# ---------------------------\n",
        "# 4️⃣  Compute TF-IDF\n",
        "# ---------------------------\n",
        "def compute_tfidf(tf_doc, idf):\n",
        "    tfidf = {}\n",
        "    for term, tf_value in tf_doc.items():\n",
        "        tfidf[term] = tf_value * idf.get(term, 0.0)\n",
        "    return tfidf\n",
        "\n",
        "tfidf_docs = [compute_tfidf(tf_doc, idf) for tf_doc in tf_docs]\n",
        "\n",
        "print(\"\\nTF-IDF Example for Doc 1:\\n\", {k: round(v, 3) for k, v in tfidf_docs[0].items()})\n"
      ]
    },
    {
      "cell_type": "code",
      "source": [
        "# ---------------------------\n",
        "# 9️⃣ Print all TF-IDF values\n",
        "# ---------------------------\n",
        "print(\"\\nTF-IDF values for all documents:\")\n",
        "for i, tfidf_doc in enumerate(tfidf_docs):\n",
        "    print(f\"\\nDocument {i+1}:\")\n",
        "    for term, value in tfidf_doc.items():\n",
        "        print(f\"  {term}: {round(value, 3)}\")"
      ],
      "metadata": {
        "colab": {
          "base_uri": "https://localhost:8080/"
        },
        "id": "QfhkHRHLizoe",
        "outputId": "cdc72c49-2030-4928-a2aa-0ea5b7e44912"
      },
      "execution_count": 11,
      "outputs": [
        {
          "output_type": "stream",
          "name": "stdout",
          "text": [
            "\n",
            "TF-IDF values for all documents:\n",
            "\n",
            "Document 1:\n",
            "  the: 0.25\n",
            "  sky: 0.305\n",
            "  is: 0.274\n",
            "  blue: 0.349\n",
            "\n",
            "Document 2:\n",
            "  the: 0.25\n",
            "  sun: 0.274\n",
            "  is: 0.274\n",
            "  bright: 0.274\n",
            "\n",
            "Document 3:\n",
            "  the: 0.286\n",
            "  sun: 0.157\n",
            "  in: 0.2\n",
            "  sky: 0.175\n",
            "  is: 0.157\n",
            "  bright: 0.157\n",
            "\n",
            "Document 4:\n",
            "  we: 0.155\n",
            "  can: 0.155\n",
            "  see: 0.155\n",
            "  the: 0.222\n",
            "  shining: 0.155\n",
            "  sun: 0.244\n",
            "  bright: 0.122\n"
          ]
        }
      ]
    },
    {
      "cell_type": "code",
      "source": [],
      "metadata": {
        "id": "VaFoo6ZFjdul"
      },
      "execution_count": null,
      "outputs": []
    },
    {
      "cell_type": "code",
      "metadata": {
        "colab": {
          "base_uri": "https://localhost:8080/"
        },
        "id": "662a1092",
        "outputId": "91023294-b758-40da-c1b0-4a2da38fa306"
      },
      "source": [
        "# ---------------------------\n",
        "# 10️⃣ Create Vocabulary\n",
        "# ---------------------------\n",
        "all_words = sorted(list(set(word for doc in corpus for word in doc)))\n",
        "vocab_size = len(all_words)\n",
        "\n",
        "print(\"Vocabulary size:\", vocab_size)\n",
        "# print(\"Vocabulary:\", all_words)"
      ],
      "execution_count": 12,
      "outputs": [
        {
          "output_type": "stream",
          "name": "stdout",
          "text": [
            "Vocabulary size: 11\n"
          ]
        }
      ]
    },
    {
      "cell_type": "code",
      "metadata": {
        "colab": {
          "base_uri": "https://localhost:8080/"
        },
        "id": "681ca8ac",
        "outputId": "2459f047-392a-4f05-82f5-595f849ed924"
      },
      "source": [
        "# ---------------------------\n",
        "# 11️⃣ Create TF-IDF Document Vectors\n",
        "# ---------------------------\n",
        "import numpy as np\n",
        "\n",
        "tfidf_vectors = []\n",
        "for tfidf_doc in tfidf_docs:\n",
        "    vector = np.zeros(vocab_size)\n",
        "    for i, term in enumerate(all_words):\n",
        "        vector[i] = tfidf_doc.get(term, 0.0) # Get TF-IDF value, or 0 if term not in doc\n",
        "    tfidf_vectors.append(vector)\n",
        "\n",
        "# Convert to a NumPy array for easier manipulation\n",
        "tfidf_vectors = np.array(tfidf_vectors)\n",
        "\n",
        "print(\"\\nTF-IDF Document Vectors (shape):\", tfidf_vectors.shape)\n",
        "# print(\"\\nTF-IDF Document Vectors:\\n\", tfidf_vectors)"
      ],
      "execution_count": 13,
      "outputs": [
        {
          "output_type": "stream",
          "name": "stdout",
          "text": [
            "\n",
            "TF-IDF Document Vectors (shape): (4, 11)\n"
          ]
        }
      ]
    },
    {
      "cell_type": "code",
      "source": [
        "# ---------------------------\n",
        "# 12️⃣ Print TF-IDF Document Vectors\n",
        "# ---------------------------\n",
        "print(\"\\nTF-IDF Document Vectors:\\n\", tfidf_vectors)"
      ],
      "metadata": {
        "colab": {
          "base_uri": "https://localhost:8080/"
        },
        "id": "FuUfc1aej6xA",
        "outputId": "68f96d8a-2b00-4ccc-efce-fa67c4ab8113"
      },
      "execution_count": 14,
      "outputs": [
        {
          "output_type": "stream",
          "name": "stdout",
          "text": [
            "\n",
            "TF-IDF Document Vectors:\n",
            " [[0.349485   0.         0.         0.         0.2742275  0.\n",
            "  0.         0.30546219 0.         0.25       0.        ]\n",
            " [0.         0.2742275  0.         0.         0.2742275  0.\n",
            "  0.         0.         0.2742275  0.25       0.        ]\n",
            " [0.         0.15670143 0.         0.19970572 0.15670143 0.\n",
            "  0.         0.17454982 0.15670143 0.28571429 0.        ]\n",
            " [0.         0.12187889 0.15532667 0.         0.         0.15532667\n",
            "  0.15532667 0.         0.24375778 0.22222222 0.15532667]]\n"
          ]
        }
      ]
    },
    {
      "cell_type": "code",
      "source": [],
      "metadata": {
        "id": "wtiZWhnCkHSq"
      },
      "execution_count": null,
      "outputs": []
    },
    {
      "cell_type": "markdown",
      "metadata": {
        "id": "ed2a7a63"
      },
      "source": [
        "The `tfidf_vectors` array now contains the TF-IDF vector representation for each document. Each row corresponds to a document, and each column corresponds to a unique word in the vocabulary."
      ]
    },
    {
      "cell_type": "markdown",
      "source": [
        " The zeros in the TF-IDF document vectors indicate that a particular word from the overall vocabulary does not appear in that specific document.\n",
        "\n",
        "The TF-IDF value for a term in a document is calculated as:\n",
        "\n",
        "TF-IDF = Term Frequency (TF) * Inverse Document Frequency (IDF)\n",
        "\n",
        "Let's look at why the product can become zero:\n",
        "\n",
        "Term Frequency (TF): This is the number of times a term appears in a document, divided by the total number of terms in that document. If a term does not appear in a document at all, its TF is 0.\n",
        "Inverse Document Frequency (IDF): This measures how common or rare a term is across the entire corpus. Even if a term appears in only one document, its IDF value will be greater than 0 (due to the smoothing added in the calculation math.log10((N + 1) / (containing_docs + 1)) + 1).\n",
        "Therefore, the product of TF and IDF becomes 0 only when the Term Frequency (TF) is 0. This happens when a word is part of the overall vocabulary but does not exist in a particular document. The zero in the vector at the position corresponding to that word simply reflects its absence in that document.\n",
        "\n",
        "In summary, the zeros in the TF-IDF matrix represent the absence of a specific word in a specific document."
      ],
      "metadata": {
        "id": "nfqXT0yIkZms"
      }
    }
  ]
}