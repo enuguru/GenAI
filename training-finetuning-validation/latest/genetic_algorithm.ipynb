{
  "nbformat": 4,
  "nbformat_minor": 0,
  "metadata": {
    "colab": {
      "provenance": []
    },
    "kernelspec": {
      "name": "python3",
      "display_name": "Python 3"
    },
    "language_info": {
      "name": "python"
    }
  },
  "cells": [
    {
      "cell_type": "code",
      "execution_count": 2,
      "metadata": {
        "colab": {
          "base_uri": "https://localhost:8080/"
        },
        "id": "aaraI-SEtTS-",
        "outputId": "969056a1-a055-4c36-d179-587635ce2fb4"
      },
      "outputs": [
        {
          "output_type": "stream",
          "name": "stdout",
          "text": [
            "Gen 001 | Best fitness: 9.875053\n",
            "Gen 010 | Best fitness: 9.999999\n",
            "Gen 020 | Best fitness: 10.000000\n",
            "Gen 030 | Best fitness: 10.000000\n",
            "Gen 040 | Best fitness: 10.000000\n",
            "Gen 050 | Best fitness: 10.000000\n",
            "Gen 060 | Best fitness: 10.000000\n",
            "Gen 070 | Best fitness: 10.000000\n",
            "Gen 080 | Best fitness: 10.000000\n",
            "\n",
            "Best solution: [0.9999999848694612, -2.0000000046399165]\n",
            "Best fitness : 10.0\n"
          ]
        }
      ],
      "source": [
        "# genetic_algorithm_continuous.py\n",
        "from __future__ import annotations\n",
        "import random\n",
        "from typing import Callable, List, Tuple\n",
        "\n",
        "# ----- Problem definition -----------------------------------------------------\n",
        "# Maximize this objective (replace with your own)\n",
        "def objective(xy: List[float]) -> float:\n",
        "    x, y = xy\n",
        "    return - (x - 1.0) ** 2 - (y + 2.0) ** 2 + 10.0\n",
        "\n",
        "BOUNDS = [(-5.0, 5.0), (-5.0, 5.0)]  # per-gene (x, y) bounds\n",
        "\n",
        "# ----- GA components ----------------------------------------------------------\n",
        "Individual = List[float]\n",
        "\n",
        "def init_individual(bounds: List[Tuple[float, float]]) -> Individual:\n",
        "    return [random.uniform(lo, hi) for lo, hi in bounds]\n",
        "\n",
        "def clip(ind: Individual, bounds: List[Tuple[float, float]]) -> Individual:\n",
        "    return [max(lo, min(v, hi)) for v, (lo, hi) in zip(ind, bounds)]\n",
        "\n",
        "def tournament_select(pop: List[Individual], fitness: List[float], k: int = 3) -> Individual:\n",
        "    idxs = random.sample(range(len(pop)), k)\n",
        "    best_idx = max(idxs, key=lambda i: fitness[i])\n",
        "    return pop[best_idx][:]  # copy\n",
        "\n",
        "def arithmetic_crossover(p1: Individual, p2: Individual, cx_prob: float = 0.9) -> Tuple[Individual, Individual]:\n",
        "    if random.random() > cx_prob:\n",
        "        return p1[:], p2[:]\n",
        "    # BLX-like / arithmetic mix per gene with random alpha in [0,1]\n",
        "    c1, c2 = [], []\n",
        "    for a, b in zip(p1, p2):\n",
        "        alpha = random.random()\n",
        "        c1.append(alpha * a + (1 - alpha) * b)\n",
        "        c2.append(alpha * b + (1 - alpha) * a)\n",
        "    return c1, c2\n",
        "\n",
        "def gaussian_mutation(ind: Individual, bounds: List[Tuple[float, float]], mut_prob: float = 0.1) -> Individual:\n",
        "    # noise scale ~ 10% of range\n",
        "    out = ind[:]\n",
        "    for i, (lo, hi) in enumerate(bounds):\n",
        "        if random.random() < mut_prob:\n",
        "            sigma = 0.1 * (hi - lo)\n",
        "            out[i] += random.gauss(0.0, sigma)\n",
        "    return clip(out, bounds)\n",
        "\n",
        "def evolve(\n",
        "    objective_fn: Callable[[Individual], float],\n",
        "    bounds: List[Tuple[float, float]],\n",
        "    pop_size: int = 60,\n",
        "    generations: int = 80,\n",
        "    crossover_prob: float = 0.9,\n",
        "    mutation_prob: float = 0.1,\n",
        "    tournament_k: int = 3,\n",
        "    elitism: int = 2,\n",
        "    seed: int | None = 42,\n",
        "):\n",
        "    if seed is not None:\n",
        "        random.seed(seed)\n",
        "\n",
        "    # Initialize population\n",
        "    population = [init_individual(bounds) for _ in range(pop_size)]\n",
        "    fitness = [objective_fn(ind) for ind in population]\n",
        "\n",
        "    for gen in range(generations):\n",
        "        # Elitism: keep top-N\n",
        "        elites = sorted(zip(population, fitness), key=lambda t: t[1], reverse=True)[:elitism]\n",
        "        new_pop: List[Individual] = [e[0][:] for e in elites]\n",
        "\n",
        "        # Generate offspring\n",
        "        while len(new_pop) < pop_size:\n",
        "            p1 = tournament_select(population, fitness, k=tournament_k)\n",
        "            p2 = tournament_select(population, fitness, k=tournament_k)\n",
        "            c1, c2 = arithmetic_crossover(p1, p2, crossover_prob)\n",
        "            c1 = gaussian_mutation(c1, bounds, mutation_prob)\n",
        "            if len(new_pop) < pop_size:\n",
        "                new_pop.append(c1)\n",
        "            c2 = gaussian_mutation(c2, bounds, mutation_prob)\n",
        "            if len(new_pop) < pop_size:\n",
        "                new_pop.append(c2)\n",
        "\n",
        "        population = new_pop\n",
        "        fitness = [objective_fn(ind) for ind in population]\n",
        "\n",
        "        # Simple progress print\n",
        "        if (gen + 1) % 10 == 0 or gen == 0 or gen == generations - 1:\n",
        "            best_val = max(fitness)\n",
        "            print(f\"Gen {gen+1:03d} | Best fitness: {best_val:.6f}\")\n",
        "\n",
        "    # Return best individual and fitness\n",
        "    best_idx = max(range(pop_size), key=lambda i: fitness[i])\n",
        "    return population[best_idx], fitness[best_idx]\n",
        "\n",
        "\n",
        "if __name__ == \"__main__\":\n",
        "    best_sol, best_fit = evolve(\n",
        "        objective_fn=objective,\n",
        "        bounds=BOUNDS,\n",
        "        pop_size=60,\n",
        "        generations=80,\n",
        "        crossover_prob=0.9,\n",
        "        mutation_prob=0.1,\n",
        "        tournament_k=3,\n",
        "        elitism=2,\n",
        "        seed=42,\n",
        "    )\n",
        "    print(\"\\nBest solution:\", best_sol)\n",
        "    print(\"Best fitness :\", best_fit)\n"
      ]
    },
    {
      "cell_type": "markdown",
      "source": [
        "Here we implement a genetic algorithm to find the maximum value of a given mathematical function (the objective function). It starts with a random population of possible solutions (individuals), then iteratively improves them over generations by selecting the best ones, combining their characteristics (crossover), and introducing small random changes (mutation). The process continues until a near-optimal solution is found, which is then returned along with its fitness value."
      ],
      "metadata": {
        "id": "N2G9jDTttvnI"
      }
    },
    {
      "cell_type": "code",
      "source": [],
      "metadata": {
        "id": "TW_4IwxUtvO8"
      },
      "execution_count": null,
      "outputs": []
    }
  ]
}