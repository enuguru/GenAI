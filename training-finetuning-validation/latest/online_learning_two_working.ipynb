{
  "nbformat": 4,
  "nbformat_minor": 0,
  "metadata": {
    "colab": {
      "provenance": []
    },
    "kernelspec": {
      "name": "python3",
      "display_name": "Python 3"
    },
    "language_info": {
      "name": "python"
    }
  },
  "cells": [
    {
      "cell_type": "code",
      "source": [
        "from sklearn.datasets import make_classification\n",
        "from sklearn.linear_model import Perceptron\n",
        "import numpy as np"
      ],
      "metadata": {
        "id": "EsZArc26R8al"
      },
      "execution_count": 1,
      "outputs": []
    },
    {
      "cell_type": "code",
      "source": [
        "# Generate a simple synthetic dataset\n",
        "X, y = make_classification(n_samples=1000, n_features=2, n_informative=2, n_redundant=0, random_state=42)\n",
        "\n",
        "# Split the dataset into training and test sets\n",
        "train_size = 800\n",
        "X_train, X_test = X[:train_size], X[train_size:]\n",
        "y_train, y_test = y[:train_size], y[train_size:]"
      ],
      "metadata": {
        "id": "uqJpXtpsSBMJ"
      },
      "execution_count": 2,
      "outputs": []
    },
    {
      "cell_type": "code",
      "execution_count": 3,
      "metadata": {
        "colab": {
          "base_uri": "https://localhost:8080/"
        },
        "id": "C1NW96XuQFHL",
        "outputId": "c3f8c6a6-83f4-440e-ee21-e3a675d36655"
      },
      "outputs": [
        {
          "output_type": "stream",
          "name": "stdout",
          "text": [
            "Epoch 1, Test accuracy: 0.8650\n",
            "Epoch 2, Test accuracy: 0.8350\n",
            "Epoch 3, Test accuracy: 0.4200\n",
            "Epoch 4, Test accuracy: 0.7500\n",
            "Epoch 5, Test accuracy: 0.8350\n",
            "Epoch 6, Test accuracy: 0.6300\n",
            "Epoch 7, Test accuracy: 0.8700\n",
            "Epoch 8, Test accuracy: 0.8450\n",
            "Epoch 9, Test accuracy: 0.8650\n",
            "Epoch 10, Test accuracy: 0.7750\n"
          ]
        }
      ],
      "source": [
        "# Initialize the Perceptron model\n",
        "perceptron = Perceptron(max_iter=1, warm_start=True)\n",
        "\n",
        "# Simulate online learning by iterating through the dataset multiple times\n",
        "for epoch in range(10):  # Simulate 10 epochs\n",
        "    for i in range(train_size):\n",
        "        X_i = X_train[i].reshape(1, -1)\n",
        "        y_i = np.array([y_train[i]])\n",
        "        perceptron.partial_fit(X_i, y_i, classes=np.unique(y_train))\n",
        "\n",
        "    # Evaluate the model on the test set after each epoch\n",
        "    score = perceptron.score(X_test, y_test)\n",
        "    print(f\"Epoch {epoch + 1}, Test accuracy: {score:.4f}\")"
      ]
    },
    {
      "cell_type": "code",
      "source": [
        "# Final evaluation\n",
        "final_score = perceptron.score(X_test, y_test)\n",
        "print(f\"Final Test accuracy: {final_score:.4f}\")"
      ],
      "metadata": {
        "colab": {
          "base_uri": "https://localhost:8080/"
        },
        "id": "-hLyKy7QSF0B",
        "outputId": "a2b26b4f-7e2a-46ad-db48-981ef87248d4"
      },
      "execution_count": 4,
      "outputs": [
        {
          "output_type": "stream",
          "name": "stdout",
          "text": [
            "Final Test accuracy: 0.7750\n"
          ]
        }
      ]
    }
  ]
}