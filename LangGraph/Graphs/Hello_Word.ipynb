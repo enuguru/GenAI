{
  "cells": [
    {
      "cell_type": "markdown",
      "metadata": {
        "id": "T2g3ROXzmS2X"
      },
      "source": [
        "# Graph I\n",
        "Our first LangGraph graph!"
      ]
    },
    {
      "cell_type": "code",
      "execution_count": null,
      "metadata": {
        "id": "q79guFucmS2Z"
      },
      "outputs": [],
      "source": [
        "from typing import Dict, TypedDict\n",
        "from langgraph.graph import StateGraph # framework that helps you design and manage the flow of tasks in your application using a graph structure"
      ]
    },
    {
      "cell_type": "code",
      "execution_count": null,
      "metadata": {
        "id": "Vv0cqqnKmS2Z"
      },
      "outputs": [],
      "source": [
        "# We now create an AgentState - shared data structure that keeps track of information as your application runs.\n",
        "\n",
        "class AgentState(TypedDict): # Our state schema\n",
        "    message : str\n",
        "\n",
        "\n",
        "def greeting_node(state: AgentState) -> AgentState:\n",
        "    \"\"\"Simple node that adds a greeting message to the state\"\"\"\n",
        "\n",
        "    state['message'] = \"Hey \" + state[\"message\"] + \", how is your day going?\"\n",
        "\n",
        "    return state"
      ]
    },
    {
      "cell_type": "code",
      "execution_count": null,
      "metadata": {
        "id": "dW_CRrWXmS2a"
      },
      "outputs": [],
      "source": [
        "graph = StateGraph(AgentState)\n",
        "\n",
        "graph.add_node(\"greeter\", greeting_node)\n",
        "\n",
        "graph.set_entry_point(\"greeter\")\n",
        "graph.set_finish_point(\"greeter\")\n",
        "\n",
        "app = graph.compile()"
      ]
    },
    {
      "cell_type": "code",
      "execution_count": null,
      "metadata": {
        "id": "VC12zM3DmS2a",
        "outputId": "7035dce1-ab7c-46ee-ac7f-76e663528ea5"
      },
      "outputs": [
        {
          "data": {
            "image/png": "[encoded data removed]",
            "text/plain": [
              "<IPython.core.display.Image object>"
            ]
          },
          "metadata": {},
          "output_type": "display_data"
        }
      ],
      "source": [
        "from IPython.display import Image, display\n",
        "display(Image(app.get_graph().draw_mermaid_png()))"
      ]
    },
    {
      "cell_type": "code",
      "execution_count": null,
      "metadata": {
        "id": "_JEF7z_LmS2a"
      },
      "outputs": [],
      "source": [
        "result = app.invoke({\"message\": \"Bob\"})"
      ]
    },
    {
      "cell_type": "code",
      "execution_count": null,
      "metadata": {
        "id": "Qa1L6sGGmS2b",
        "outputId": "54f38f3b-4705-49d7-cd49-657a9a8314d3"
      },
      "outputs": [
        {
          "data": {
            "text/plain": [
              "'Hey Bob, how is your day going?'"
            ]
          },
          "execution_count": 13,
          "metadata": {},
          "output_type": "execute_result"
        }
      ],
      "source": [
        "result[\"message\"]"
      ]
    },
    {
      "cell_type": "code",
      "execution_count": null,
      "metadata": {
        "id": "6WtP-buSmS2b"
      },
      "outputs": [],
      "source": []
    }
  ],
  "metadata": {
    "kernelspec": {
      "display_name": "myenv",
      "language": "python",
      "name": "python3"
    },
    "language_info": {
      "codemirror_mode": {
        "name": "ipython",
        "version": 3
      },
      "file_extension": ".py",
      "mimetype": "text/x-python",
      "name": "python",
      "nbconvert_exporter": "python",
      "pygments_lexer": "ipython3",
      "version": "3.12.6"
    },
    "colab": {
      "provenance": []
    }
  },
  "nbformat": 4,
  "nbformat_minor": 0
}