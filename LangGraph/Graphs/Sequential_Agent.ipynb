{
  "cells": [
    {
      "cell_type": "markdown",
      "metadata": {
        "id": "ra5F2oZQml3f"
      },
      "source": [
        "# Graph III"
      ]
    },
    {
      "cell_type": "code",
      "execution_count": null,
      "metadata": {
        "id": "HgX-kziuml3g"
      },
      "outputs": [],
      "source": [
        "from typing import TypedDict # Imports all the data types we need\n",
        "from langgraph.graph import StateGraph"
      ]
    },
    {
      "cell_type": "code",
      "execution_count": null,
      "metadata": {
        "id": "NCSQyYI7ml3h"
      },
      "outputs": [],
      "source": [
        "class AgentState(TypedDict):\n",
        "    name: str\n",
        "    age: str\n",
        "    final: str"
      ]
    },
    {
      "cell_type": "code",
      "execution_count": null,
      "metadata": {
        "id": "91oEUMRtml3h"
      },
      "outputs": [],
      "source": [
        "def first_node(state:AgentState) -> AgentState:\n",
        "    \"\"\"This is the first node of our sequence\"\"\"\n",
        "\n",
        "    state[\"final\"] = f\"Hi {state[\"name\"]}!\"\n",
        "    return state\n",
        "\n",
        "def second_node(state:AgentState) -> AgentState:\n",
        "    \"\"\"This is the second node of our sequence\"\"\"\n",
        "\n",
        "    state[\"final\"] = state[\"final\"] + f\" You are {state[\"age\"]} years old!\"\n",
        "\n",
        "    return state"
      ]
    },
    {
      "cell_type": "code",
      "execution_count": null,
      "metadata": {
        "id": "T2rehjcUml3h"
      },
      "outputs": [],
      "source": [
        "graph = StateGraph(AgentState)\n",
        "\n",
        "graph.add_node(\"first_node\", first_node)\n",
        "graph.add_node(\"second_node\", second_node)\n",
        "\n",
        "graph.set_entry_point(\"first_node\")\n",
        "graph.add_edge(\"first_node\", \"second_node\")\n",
        "graph.set_finish_point(\"second_node\")\n",
        "app = graph.compile()"
      ]
    },
    {
      "cell_type": "code",
      "execution_count": null,
      "metadata": {
        "id": "0o9hmRqmml3h",
        "outputId": "d1bc58c1-50d6-40ae-b19a-8f4b562eed8e"
      },
      "outputs": [
        {
          "data": {
            "image/png": "[encoded data removed]",
            "text/plain": [
              "<IPython.core.display.Image object>"
            ]
          },
          "metadata": {},
          "output_type": "display_data"
        }
      ],
      "source": [
        "from IPython.display import Image, display\n",
        "display(Image(app.get_graph().draw_mermaid_png()))"
      ]
    },
    {
      "cell_type": "code",
      "execution_count": null,
      "metadata": {
        "id": "CEd9JjFVml3h",
        "outputId": "51cec16b-cfa5-425c-85c6-083b35f67f13"
      },
      "outputs": [
        {
          "name": "stdout",
          "output_type": "stream",
          "text": [
            "{'name': 'Charlie', 'age': 20, 'final': 'Hi Charlie! You are 20 years old!'}\n"
          ]
        }
      ],
      "source": [
        "result = app.invoke({\"name\": \"Charlie\", \"age\": 20})\n",
        "print(result)"
      ]
    },
    {
      "cell_type": "code",
      "execution_count": null,
      "metadata": {
        "id": "QBd9teAlml3i"
      },
      "outputs": [],
      "source": []
    },
    {
      "cell_type": "code",
      "execution_count": null,
      "metadata": {
        "id": "dshP9h_Jml3i"
      },
      "outputs": [],
      "source": []
    }
  ],
  "metadata": {
    "kernelspec": {
      "display_name": "myenv",
      "language": "python",
      "name": "python3"
    },
    "language_info": {
      "codemirror_mode": {
        "name": "ipython",
        "version": 3
      },
      "file_extension": ".py",
      "mimetype": "text/x-python",
      "name": "python",
      "nbconvert_exporter": "python",
      "pygments_lexer": "ipython3",
      "version": "3.12.6"
    },
    "colab": {
      "provenance": []
    }
  },
  "nbformat": 4,
  "nbformat_minor": 0
}