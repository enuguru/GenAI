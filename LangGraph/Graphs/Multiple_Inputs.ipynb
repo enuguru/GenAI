{
  "cells": [
    {
      "cell_type": "markdown",
      "metadata": {
        "id": "uz44WKMWmgpw"
      },
      "source": [
        "# Graph II"
      ]
    },
    {
      "cell_type": "code",
      "execution_count": null,
      "metadata": {
        "id": "kCZv76qymgpx"
      },
      "outputs": [],
      "source": [
        "from typing import TypedDict, List\n",
        "from langgraph.graph import StateGraph"
      ]
    },
    {
      "cell_type": "code",
      "execution_count": null,
      "metadata": {
        "id": "FTaRiLPAmgpx"
      },
      "outputs": [],
      "source": [
        "class AgentState(TypedDict):\n",
        "    values: List[int]\n",
        "    name: str\n",
        "    result: str"
      ]
    },
    {
      "cell_type": "code",
      "execution_count": null,
      "metadata": {
        "id": "dskQigymmgpx"
      },
      "outputs": [],
      "source": [
        "def process_values(state: AgentState) -> AgentState:\n",
        "    \"\"\"This function handles multiple different inputs\"\"\"\n",
        "    print(state)\n",
        "\n",
        "    state[\"result\"] = f\"Hi there {state[\"name\"]}! Your sum = {sum(state[\"values\"])}\"\n",
        "\n",
        "    print(state)\n",
        "    return state"
      ]
    },
    {
      "cell_type": "code",
      "execution_count": null,
      "metadata": {
        "id": "QnTRFqirmgpx"
      },
      "outputs": [],
      "source": [
        "graph = StateGraph(AgentState)\n",
        "\n",
        "graph.add_node(\"processor\", process_values)\n",
        "graph.set_entry_point(\"processor\") # Set the starting node\n",
        "graph.set_finish_point(\"processor\") # Set the ending node\n",
        "\n",
        "app = graph.compile() # Compiling the graph"
      ]
    },
    {
      "cell_type": "code",
      "execution_count": null,
      "metadata": {
        "id": "BU4zPTqYmgpy",
        "outputId": "6ac49257-aeb7-40fa-fa2f-6b209bd78f7b"
      },
      "outputs": [
        {
          "data": {
            "image/png": "[encoded data removed]",
            "text/plain": [
              "<IPython.core.display.Image object>"
            ]
          },
          "metadata": {},
          "output_type": "display_data"
        }
      ],
      "source": [
        "from IPython.display import Image, display\n",
        "display(Image(app.get_graph().draw_mermaid_png()))"
      ]
    },
    {
      "cell_type": "code",
      "execution_count": null,
      "metadata": {
        "id": "7jCPVAgcmgpy",
        "outputId": "ccc7f047-4595-49d7-d466-622997ebd401"
      },
      "outputs": [
        {
          "name": "stdout",
          "output_type": "stream",
          "text": [
            "{'values': [1, 2, 3, 4], 'name': 'Steve'}\n",
            "{'values': [1, 2, 3, 4], 'name': 'Steve', 'result': 'Hi there Steve! Your sum = 10'}\n"
          ]
        }
      ],
      "source": [
        "answers = app.invoke({\"values\": [1,2,3,4], \"name\": \"Steve\"})"
      ]
    },
    {
      "cell_type": "code",
      "execution_count": null,
      "metadata": {
        "id": "Y4731-9Umgpy",
        "outputId": "c459e2bd-bc2f-418b-e1c5-e6631c31c42d"
      },
      "outputs": [
        {
          "name": "stdout",
          "output_type": "stream",
          "text": [
            "Hi there Steve! Your sum = 10\n"
          ]
        }
      ],
      "source": [
        "print(answers[\"result\"])"
      ]
    },
    {
      "cell_type": "code",
      "execution_count": null,
      "metadata": {
        "id": "EmLnBWGQmgpy"
      },
      "outputs": [],
      "source": []
    }
  ],
  "metadata": {
    "kernelspec": {
      "display_name": "myenv",
      "language": "python",
      "name": "python3"
    },
    "language_info": {
      "codemirror_mode": {
        "name": "ipython",
        "version": 3
      },
      "file_extension": ".py",
      "mimetype": "text/x-python",
      "name": "python",
      "nbconvert_exporter": "python",
      "pygments_lexer": "ipython3",
      "version": "3.12.6"
    },
    "colab": {
      "provenance": []
    }
  },
  "nbformat": 4,
  "nbformat_minor": 0
}