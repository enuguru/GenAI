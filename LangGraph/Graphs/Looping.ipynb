{
  "cells": [
    {
      "cell_type": "markdown",
      "id": "e489eed1",
      "metadata": {
        "id": "e489eed1"
      },
      "source": [
        "# Graph V"
      ]
    },
    {
      "cell_type": "markdown",
      "id": "21ac55a3",
      "metadata": {
        "id": "21ac55a3"
      },
      "source": [
        "![image.png](attachment:image.png)"
      ]
    },
    {
      "cell_type": "code",
      "execution_count": null,
      "id": "d5b60a5d",
      "metadata": {
        "id": "d5b60a5d"
      },
      "outputs": [],
      "source": [
        "from langgraph.graph import StateGraph, END\n",
        "import random\n",
        "from typing import Dict, List, TypedDict"
      ]
    },
    {
      "cell_type": "code",
      "execution_count": null,
      "id": "e5554b3a",
      "metadata": {
        "id": "e5554b3a"
      },
      "outputs": [],
      "source": [
        "class AgentState(TypedDict):\n",
        "    name: str\n",
        "    number: List[int]\n",
        "    counter: int"
      ]
    },
    {
      "cell_type": "code",
      "execution_count": null,
      "id": "cbfd7047",
      "metadata": {
        "id": "cbfd7047"
      },
      "outputs": [],
      "source": [
        "def greeting_node(state: AgentState) -> AgentState:\n",
        "    \"\"\"Greeting Node which says hi to the person\"\"\"\n",
        "    state[\"name\"] = f\"Hi there, {state[\"name\"]}\"\n",
        "    state[\"counter\"] = 0\n",
        "\n",
        "    return state\n",
        "\n",
        "def random_node(state: AgentState) -> AgentState:\n",
        "    \"\"\"Generates a random number from 0 to 10\"\"\"\n",
        "    state[\"number\"].append(random.randint(0, 10))\n",
        "    state[\"counter\"] += 1\n",
        "\n",
        "    return state\n",
        "\n",
        "\n",
        "def should_continue(state: AgentState) -> AgentState:\n",
        "    \"\"\"Function to decide what to do next\"\"\"\n",
        "    if state[\"counter\"] < 5:\n",
        "        print(\"ENTERING LOOP\", state[\"counter\"])\n",
        "        return \"loop\"  # Continue looping\n",
        "    else:\n",
        "        return \"exit\"  # Exit the loop\n",
        ""
      ]
    },
    {
      "cell_type": "code",
      "execution_count": null,
      "id": "8bd80912",
      "metadata": {
        "id": "8bd80912"
      },
      "outputs": [],
      "source": [
        "# greeting → random → random → random → random → random → END"
      ]
    },
    {
      "cell_type": "code",
      "execution_count": null,
      "id": "4690ce08",
      "metadata": {
        "id": "4690ce08"
      },
      "outputs": [],
      "source": [
        "graph = StateGraph(AgentState)\n",
        "\n",
        "graph.add_node(\"greeting\", greeting_node)\n",
        "graph.add_node(\"random\", random_node)\n",
        "graph.add_edge(\"greeting\", \"random\")\n",
        "\n",
        "\n",
        "graph.add_conditional_edges(\n",
        "    \"random\",     # Source node\n",
        "    should_continue, # Action\n",
        "    {\n",
        "        \"loop\": \"random\",\n",
        "        \"exit\": END\n",
        "    }\n",
        ")\n",
        "\n",
        "graph.set_entry_point(\"greeting\")\n",
        "\n",
        "app = graph.compile()"
      ]
    },
    {
      "cell_type": "code",
      "execution_count": null,
      "id": "b62a97f8",
      "metadata": {
        "id": "b62a97f8",
        "outputId": "8ea9865c-7b69-429f-8ecf-cf14b5333251"
      },
      "outputs": [
        {
          "data": {
            "image/png": "[encoded data removed]",
            "text/plain": [
              "<IPython.core.display.Image object>"
            ]
          },
          "metadata": {},
          "output_type": "display_data"
        }
      ],
      "source": [
        "from IPython.display import Image, display\n",
        "display(Image(app.get_graph().draw_mermaid_png()))"
      ]
    },
    {
      "cell_type": "code",
      "execution_count": null,
      "id": "c00689f5",
      "metadata": {
        "id": "c00689f5",
        "outputId": "66a102fb-9853-4d59-fe2a-d69ccf28dc90"
      },
      "outputs": [
        {
          "name": "stdout",
          "output_type": "stream",
          "text": [
            "ENTERING LOOP 1\n",
            "ENTERING LOOP 2\n",
            "ENTERING LOOP 3\n",
            "ENTERING LOOP 4\n"
          ]
        },
        {
          "data": {
            "text/plain": [
              "{'name': 'Hi there, Vaibhav', 'number': [3, 0, 1, 9, 5], 'counter': 5}"
            ]
          },
          "execution_count": 10,
          "metadata": {},
          "output_type": "execute_result"
        }
      ],
      "source": [
        "app.invoke({\"name\":\"Vaibhav\", \"number\":[], \"counter\":-100})"
      ]
    },
    {
      "cell_type": "code",
      "execution_count": null,
      "id": "426758cd",
      "metadata": {
        "id": "426758cd"
      },
      "outputs": [],
      "source": []
    }
  ],
  "metadata": {
    "kernelspec": {
      "display_name": "myenv",
      "language": "python",
      "name": "python3"
    },
    "language_info": {
      "codemirror_mode": {
        "name": "ipython",
        "version": 3
      },
      "file_extension": ".py",
      "mimetype": "text/x-python",
      "name": "python",
      "nbconvert_exporter": "python",
      "pygments_lexer": "ipython3",
      "version": "3.12.6"
    },
    "colab": {
      "provenance": []
    }
  },
  "nbformat": 4,
  "nbformat_minor": 5
}