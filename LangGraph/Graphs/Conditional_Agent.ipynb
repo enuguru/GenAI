{
  "cells": [
    {
      "cell_type": "code",
      "execution_count": null,
      "metadata": {
        "id": "rf0_loQNmL07"
      },
      "outputs": [],
      "source": [
        "from typing import TypedDict\n",
        "from langgraph.graph import StateGraph, START, END"
      ]
    },
    {
      "cell_type": "code",
      "execution_count": null,
      "metadata": {
        "id": "d7JR4JT7mL08"
      },
      "outputs": [],
      "source": [
        "class AgentState(TypedDict):\n",
        "    number1: int\n",
        "    operation: str\n",
        "    number2: int\n",
        "    finalNumber: int"
      ]
    },
    {
      "cell_type": "code",
      "execution_count": null,
      "metadata": {
        "id": "P1k-Em0MmL08"
      },
      "outputs": [],
      "source": [
        "def adder(state:AgentState) -> AgentState:\n",
        "    \"\"\"This node adds the 2 numbers\"\"\"\n",
        "    state[\"finalNumber\"] = state[\"number1\"] + state[\"number2\"]\n",
        "\n",
        "    return state\n",
        "\n",
        "def subtractor(state:AgentState) -> AgentState:\n",
        "    \"\"\"This node subtracts the 2 numbers\"\"\"\n",
        "    state[\"finalNumber\"] = state[\"number1\"] - state[\"number2\"]\n",
        "    return state\n",
        "\n",
        "\n",
        "def decide_next_node(state:AgentState) -> AgentState:\n",
        "    \"\"\"This node will select the next node of the graph\"\"\"\n",
        "\n",
        "    if state[\"operation\"] == \"+\":\n",
        "        return \"addition_operation\"\n",
        "\n",
        "    elif state[\"operation\"] == \"-\":\n",
        "        return \"subtraction_operation\"\n",
        "\n"
      ]
    },
    {
      "cell_type": "code",
      "execution_count": null,
      "metadata": {
        "id": "5_fAZrlkmL09"
      },
      "outputs": [],
      "source": [
        "graph = StateGraph(AgentState)\n",
        "\n",
        "graph.add_node(\"add_node\", adder)\n",
        "graph.add_node(\"subtract_node\", subtractor)\n",
        "graph.add_node(\"router\", lambda state:state) # passthrough function\n",
        "\n",
        "graph.add_edge(START, \"router\")\n",
        "\n",
        "graph.add_conditional_edges(\n",
        "    \"router\",\n",
        "    decide_next_node,\n",
        "\n",
        "    {\n",
        "        # Edge: Node\n",
        "        \"addition_operation\": \"add_node\",\n",
        "        \"subtraction_operation\": \"subtract_node\"\n",
        "    }\n",
        "\n",
        ")\n",
        "\n",
        "graph.add_edge(\"add_node\", END)\n",
        "graph.add_edge(\"subtract_node\", END)\n",
        "\n",
        "app = graph.compile()"
      ]
    },
    {
      "cell_type": "code",
      "execution_count": null,
      "metadata": {
        "id": "EbR8UDLDmL09",
        "outputId": "ea2c7911-3a9b-4141-da59-f9aac3c5e8bc"
      },
      "outputs": [
        {
          "data": {
            "image/png": "[encoded data removed]",
            "text/plain": [
              "<IPython.core.display.Image object>"
            ]
          },
          "metadata": {},
          "output_type": "display_data"
        }
      ],
      "source": [
        "from IPython.display import Image, display\n",
        "display(Image(app.get_graph().draw_mermaid_png()))"
      ]
    },
    {
      "cell_type": "code",
      "execution_count": null,
      "metadata": {
        "id": "EdBUlsxnmL09",
        "outputId": "d157d678-b2e3-4da7-e24a-d3304452369a"
      },
      "outputs": [
        {
          "name": "stdout",
          "output_type": "stream",
          "text": [
            "{'number1': 10, 'operation': '-', 'number2': 5, 'finalNumber': 5}\n"
          ]
        }
      ],
      "source": [
        "initial_state_1 = AgentState(number1 = 10, operation=\"-\", number2 = 5)\n",
        "print(app.invoke(initial_state_1))"
      ]
    },
    {
      "cell_type": "code",
      "execution_count": null,
      "metadata": {
        "id": "AxjFLGlumL0-",
        "outputId": "4ca7af38-e721-441a-f8c7-c5f3721fab9b"
      },
      "outputs": [
        {
          "name": "stdout",
          "output_type": "stream",
          "text": [
            "{'number1': 10, 'operation': '-', 'number2': 5, 'finalNumber': 5}\n"
          ]
        }
      ],
      "source": [
        "# This way still works!\n",
        "\n",
        "result = app.invoke({\"number1\": 10, \"operation\": \"-\", \"number2\": 5})\n",
        "print(result)"
      ]
    },
    {
      "cell_type": "code",
      "execution_count": null,
      "metadata": {
        "id": "e5ifIX-YmL0-"
      },
      "outputs": [],
      "source": []
    }
  ],
  "metadata": {
    "kernelspec": {
      "display_name": "myenv",
      "language": "python",
      "name": "python3"
    },
    "language_info": {
      "codemirror_mode": {
        "name": "ipython",
        "version": 3
      },
      "file_extension": ".py",
      "mimetype": "text/x-python",
      "name": "python",
      "nbconvert_exporter": "python",
      "pygments_lexer": "ipython3",
      "version": "3.12.6"
    },
    "colab": {
      "provenance": []
    }
  },
  "nbformat": 4,
  "nbformat_minor": 0
}