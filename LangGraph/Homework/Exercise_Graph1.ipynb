{
  "cells": [
    {
      "cell_type": "markdown",
      "id": "22351fb3",
      "metadata": {
        "id": "22351fb3"
      },
      "source": [
        "# Exercise 1"
      ]
    },
    {
      "cell_type": "code",
      "execution_count": null,
      "id": "be81cfe1",
      "metadata": {
        "id": "be81cfe1"
      },
      "outputs": [],
      "source": [
        "from typing import Dict, TypedDict\n",
        "from langgraph.graph import StateGraph"
      ]
    },
    {
      "cell_type": "code",
      "execution_count": null,
      "id": "1b21096a",
      "metadata": {
        "id": "1b21096a"
      },
      "outputs": [],
      "source": [
        "# We now create an AgentState - shared data structure that keeps track of information as your application runs.\n",
        "\n",
        "class AgentState(TypedDict): # Our state schema\n",
        "    name : str\n",
        "\n",
        "\n",
        "def compliment_node(state: AgentState) -> AgentState:\n",
        "    \"\"\"Simple node that compliments the user\"\"\"\n",
        "\n",
        "    state['name'] = state[\"name\"] + \" you're doing an amazing job learning LangGraph!\"\n",
        "\n",
        "    return state"
      ]
    },
    {
      "cell_type": "code",
      "execution_count": null,
      "id": "25f75e2c",
      "metadata": {
        "id": "25f75e2c"
      },
      "outputs": [],
      "source": [
        "graph = StateGraph(AgentState)\n",
        "\n",
        "graph.add_node(\"compliment\", compliment_node)\n",
        "\n",
        "graph.set_entry_point(\"compliment\")\n",
        "graph.set_finish_point(\"compliment\")\n",
        "\n",
        "app = graph.compile()"
      ]
    },
    {
      "cell_type": "code",
      "execution_count": null,
      "id": "f866534c",
      "metadata": {
        "id": "f866534c",
        "outputId": "42917833-f0d0-478f-91a6-fa66c830ee13"
      },
      "outputs": [
        {
          "data": {
            "image/png": "[encoded data removed]",
            "text/plain": [
              "<IPython.core.display.Image object>"
            ]
          },
          "metadata": {},
          "output_type": "display_data"
        }
      ],
      "source": [
        "from IPython.display import Image, display\n",
        "display(Image(app.get_graph().draw_mermaid_png()))"
      ]
    },
    {
      "cell_type": "code",
      "execution_count": null,
      "id": "22fe4529",
      "metadata": {
        "id": "22fe4529"
      },
      "outputs": [],
      "source": [
        "result = app.invoke({\"name\": \"Bob\"})"
      ]
    },
    {
      "cell_type": "code",
      "execution_count": null,
      "id": "e4bf7a26",
      "metadata": {
        "id": "e4bf7a26",
        "outputId": "b4179759-0f3b-4b8c-f498-9af1f3f98518"
      },
      "outputs": [
        {
          "data": {
            "text/plain": [
              "\"Bob you're doing an amazing job learning LangGraph!\""
            ]
          },
          "execution_count": 7,
          "metadata": {},
          "output_type": "execute_result"
        }
      ],
      "source": [
        "result[\"name\"]"
      ]
    },
    {
      "cell_type": "code",
      "execution_count": null,
      "id": "0146827d",
      "metadata": {
        "id": "0146827d"
      },
      "outputs": [],
      "source": []
    }
  ],
  "metadata": {
    "kernelspec": {
      "display_name": "myenv",
      "language": "python",
      "name": "python3"
    },
    "language_info": {
      "codemirror_mode": {
        "name": "ipython",
        "version": 3
      },
      "file_extension": ".py",
      "mimetype": "text/x-python",
      "name": "python",
      "nbconvert_exporter": "python",
      "pygments_lexer": "ipython3",
      "version": "3.12.6"
    },
    "colab": {
      "provenance": []
    }
  },
  "nbformat": 4,
  "nbformat_minor": 5
}