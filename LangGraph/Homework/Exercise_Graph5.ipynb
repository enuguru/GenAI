{
  "cells": [
    {
      "cell_type": "code",
      "execution_count": null,
      "id": "af02ff61",
      "metadata": {
        "id": "af02ff61"
      },
      "outputs": [],
      "source": [
        "from langgraph.graph import StateGraph, END\n",
        "import random\n",
        "from typing import Dict, List, TypedDict"
      ]
    },
    {
      "cell_type": "code",
      "execution_count": null,
      "id": "44d6b90d",
      "metadata": {
        "id": "44d6b90d"
      },
      "outputs": [],
      "source": [
        "class GameState(TypedDict):\n",
        "    player_name: str\n",
        "    target_number: int\n",
        "    guesses: List[int]\n",
        "    attempts: int\n",
        "    hint: str\n",
        "    lower_bound: int\n",
        "    upper_bound: int"
      ]
    },
    {
      "cell_type": "code",
      "execution_count": null,
      "id": "4f376365",
      "metadata": {
        "id": "4f376365"
      },
      "outputs": [],
      "source": [
        "def setup_node(state: GameState) -> GameState:\n",
        "    \"\"\"Initialize the game with a random target number\"\"\"\n",
        "    state[\"player_name\"] = f\"Welcome, {state['player_name']}!\"\n",
        "    state[\"target_number\"] = random.randint(1, 20)\n",
        "    state[\"guesses\"] = []\n",
        "    state[\"attempts\"] = 0\n",
        "    state[\"hint\"] = \"Game started! Try to guess the number.\"\n",
        "    state[\"lower_bound\"] = 1\n",
        "    state[\"upper_bound\"] = 20\n",
        "    print(f\"{state['player_name']} The game has begun. I'm thinking of a number between 1 and 20.\")\n",
        "    return state"
      ]
    },
    {
      "cell_type": "code",
      "execution_count": null,
      "id": "2208b483",
      "metadata": {
        "id": "2208b483"
      },
      "outputs": [],
      "source": [
        "def guess_node(state: GameState) -> GameState:\n",
        "    \"\"\"Generate a smarter guess based on previous hints\"\"\"\n",
        "\n",
        "    possible_guesses = [i for i in range(state[\"lower_bound\"], state[\"upper_bound\"] + 1) if i not in state[\"guesses\"]]\n",
        "    if possible_guesses:\n",
        "        guess = random.choice(possible_guesses)\n",
        "    else:\n",
        "\n",
        "        guess = random.randint(state[\"lower_bound\"], state[\"upper_bound\"])\n",
        "\n",
        "    state[\"guesses\"].append(guess)\n",
        "    state[\"attempts\"] += 1\n",
        "    print(f\"Attempt {state['attempts']}: Guessing {guess} (Current range: {state['lower_bound']}-{state['upper_bound']})\")\n",
        "    return state"
      ]
    },
    {
      "cell_type": "code",
      "execution_count": null,
      "id": "6e207d50",
      "metadata": {
        "id": "6e207d50"
      },
      "outputs": [],
      "source": [
        "def hint_node(state: GameState) -> GameState:\n",
        "    \"\"\"Here we provide a hint based on the last guess and update the bounds\"\"\"\n",
        "    latest_guess = state[\"guesses\"][-1]\n",
        "    target = state[\"target_number\"]\n",
        "\n",
        "    if latest_guess < target:\n",
        "        state[\"hint\"] = f\"The number {latest_guess} is too low. Try higher!\"\n",
        "\n",
        "        state[\"lower_bound\"] = max(state[\"lower_bound\"], latest_guess + 1)\n",
        "        print(f\"Hint: {state['hint']}\")\n",
        "\n",
        "    elif latest_guess > target:\n",
        "        state[\"hint\"] = f\"The number {latest_guess} is too high. Try lower!\"\n",
        "\n",
        "        state[\"upper_bound\"] = min(state[\"upper_bound\"], latest_guess - 1)\n",
        "        print(f\"Hint: {state['hint']}\")\n",
        "    else:\n",
        "        state[\"hint\"] = f\"Correct! You found the number {target} in {state['attempts']} attempts.\"\n",
        "        print(f\"Success! {state['hint']}\")\n",
        "\n",
        "    return state"
      ]
    },
    {
      "cell_type": "code",
      "execution_count": null,
      "id": "8a3ba030",
      "metadata": {
        "id": "8a3ba030"
      },
      "outputs": [],
      "source": [
        "def should_continue(state: GameState) -> str:\n",
        "    \"\"\"Determine if we should continue guessing or end the game\"\"\"\n",
        "\n",
        "    # There are 2 end conditions - either 7 is reached or the correct number is guessed\n",
        "\n",
        "    latest_guess = state[\"guesses\"][-1]\n",
        "    if latest_guess == state[\"target_number\"]:\n",
        "        print(f\"GAME OVER: Number found!\")\n",
        "        return \"end\"\n",
        "    elif state[\"attempts\"] >= 7:\n",
        "        print(f\"GAME OVER: Maximum attempts reached! The number was {state['target_number']}\")\n",
        "        return \"end\"\n",
        "    else:\n",
        "        print(f\"CONTINUING: {state['attempts']}/7 attempts used\")\n",
        "        return \"continue\""
      ]
    },
    {
      "cell_type": "code",
      "execution_count": null,
      "id": "03142071",
      "metadata": {
        "id": "03142071"
      },
      "outputs": [],
      "source": [
        "graph = StateGraph(GameState)\n",
        "graph.add_node(\"setup\", setup_node)\n",
        "graph.add_node(\"guess\", guess_node)\n",
        "graph.add_node(\"hint_node\", hint_node)\n",
        "\n",
        "\n",
        "graph.add_edge(\"setup\", \"guess\")\n",
        "graph.add_edge(\"guess\", \"hint_node\")\n",
        "\n",
        "\n",
        "graph.add_conditional_edges(\n",
        "    \"hint_node\",\n",
        "    should_continue,\n",
        "    {\n",
        "        \"continue\": \"guess\",\n",
        "        \"end\": END\n",
        "    }\n",
        ")\n",
        "\n",
        "graph.set_entry_point(\"setup\")\n",
        "app = graph.compile()"
      ]
    },
    {
      "cell_type": "code",
      "execution_count": null,
      "id": "cacf5547",
      "metadata": {
        "id": "cacf5547",
        "outputId": "4fed7d38-40d8-436e-db72-0595368065d7"
      },
      "outputs": [
        {
          "data": {
            "image/png": "[encoded data removed]",
            "text/plain": [
              "<IPython.core.display.Image object>"
            ]
          },
          "metadata": {},
          "output_type": "display_data"
        }
      ],
      "source": [
        "from IPython.display import Image, display\n",
        "display(Image(app.get_graph().draw_mermaid_png()))"
      ]
    },
    {
      "cell_type": "code",
      "execution_count": null,
      "id": "d611d3c0",
      "metadata": {
        "id": "d611d3c0",
        "outputId": "85f6cc99-7fd5-4502-af8b-533026b2f068"
      },
      "outputs": [
        {
          "name": "stdout",
          "output_type": "stream",
          "text": [
            "Welcome, Student! The game has begun. I'm thinking of a number between 1 and 20.\n",
            "Attempt 1: Guessing 11 (Current range: 1-20)\n",
            "Hint: The number 11 is too high. Try lower!\n",
            "CONTINUING: 1/7 attempts used\n",
            "Attempt 2: Guessing 8 (Current range: 1-10)\n",
            "Hint: The number 8 is too low. Try higher!\n",
            "CONTINUING: 2/7 attempts used\n",
            "Attempt 3: Guessing 9 (Current range: 9-10)\n",
            "Hint: The number 9 is too low. Try higher!\n",
            "CONTINUING: 3/7 attempts used\n",
            "Attempt 4: Guessing 10 (Current range: 10-10)\n",
            "Success! Correct! You found the number 10 in 4 attempts.\n",
            "GAME OVER: Number found!\n"
          ]
        }
      ],
      "source": [
        "result = app.invoke({\"player_name\": \"Student\", \"guesses\": [], \"attempts\": 0, \"lower_bound\": 1, \"upper_bound\": 20})"
      ]
    },
    {
      "cell_type": "code",
      "execution_count": null,
      "id": "dc92fcb8",
      "metadata": {
        "id": "dc92fcb8"
      },
      "outputs": [],
      "source": []
    }
  ],
  "metadata": {
    "kernelspec": {
      "display_name": "myenv",
      "language": "python",
      "name": "python3"
    },
    "language_info": {
      "codemirror_mode": {
        "name": "ipython",
        "version": 3
      },
      "file_extension": ".py",
      "mimetype": "text/x-python",
      "name": "python",
      "nbconvert_exporter": "python",
      "pygments_lexer": "ipython3",
      "version": "3.12.6"
    },
    "colab": {
      "provenance": []
    }
  },
  "nbformat": 4,
  "nbformat_minor": 5
}