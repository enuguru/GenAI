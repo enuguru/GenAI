{
  "nbformat": 4,
  "nbformat_minor": 0,
  "metadata": {
    "colab": {
      "provenance": []
    },
    "kernelspec": {
      "name": "python3",
      "display_name": "Python 3"
    },
    "language_info": {
      "name": "python"
    }
  },
  "cells": [
    {
      "cell_type": "code",
      "execution_count": null,
      "metadata": {
        "id": "T3sVVVxgPvBl"
      },
      "outputs": [],
      "source": []
    },
    {
      "cell_type": "markdown",
      "metadata": {
        "id": "3892c5d7"
      },
      "source": [
        "# Task\n",
        "Build a simple chatbot using the \"microsoft/DialoGPT-medium\" model from Hugging Face."
      ]
    },
    {
      "cell_type": "markdown",
      "metadata": {
        "id": "dd6e3fd9"
      },
      "source": [
        "First, you'll need to get your Hugging Face API key. You can find it in your Hugging Face account settings, under \"Access Tokens\". Once you have your key, you should store it as a Colab secret. To do this, click on the \"Secrets\" tab in the left-hand menu, and create a new secret named `HF_TOKEN` with your API key as the value. This will ensure that your key is kept private."
      ]
    },
    {
      "cell_type": "code",
      "metadata": {
        "id": "e4dfa417"
      },
      "source": [
        "from huggingface_hub import login\n",
        "from google.colab import userdata\n",
        "\n",
        "# Log in to Hugging Face using the stored API key\n",
        "login(token=userdata.get('HF_TOKEN'))"
      ],
      "execution_count": 6,
      "outputs": []
    }
  ]
}