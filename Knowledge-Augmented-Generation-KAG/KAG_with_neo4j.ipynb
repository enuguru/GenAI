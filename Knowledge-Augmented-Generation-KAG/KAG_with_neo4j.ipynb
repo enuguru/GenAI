{
  "nbformat": 4,
  "nbformat_minor": 0,
  "metadata": {
    "colab": {
      "provenance": []
    },
    "kernelspec": {
      "name": "python3",
      "display_name": "Python 3"
    },
    "language_info": {
      "name": "python"
    }
  },
  "cells": [
    {
      "cell_type": "code",
      "execution_count": null,
      "metadata": {
        "id": "5f_WP9XHxT9m"
      },
      "outputs": [],
      "source": [
        "!pip install neo4j"
      ]
    },
    {
      "cell_type": "code",
      "source": [
        "from neo4j import GraphDatabase\n",
        "import os\n",
        "from google.colab import userdata"
      ],
      "metadata": {
        "id": "Gzn2SzgzxU5H"
      },
      "execution_count": null,
      "outputs": []
    },
    {
      "cell_type": "code",
      "source": [
        "# Connect to Neo4j (start Neo4j Desktop or AuraDB first)\n",
        "# uri = \"bolt://localhost:7687\"\n",
        "# driver = GraphDatabase.driver(uri, auth=(\"neo4j\", \"password\"))\n",
        "\n",
        "# Get Neo4j connection details from environment variables\n",
        "uri = userdata.get('NEO4J_URI')\n",
        "user = userdata.get('NEO4J_USER')\n",
        "password = userdata.get('NEO4J_PASSWORD')\n",
        "\n",
        "driver = GraphDatabase.driver(uri, auth=(user, password))\n"
      ],
      "metadata": {
        "id": "-2ZLLAOJ1bWO"
      },
      "execution_count": null,
      "outputs": []
    },
    {
      "cell_type": "code",
      "source": [
        "# 1️⃣ Create a sample knowledge graph\n",
        "def create_graph(tx):\n",
        "    tx.run(\"\"\"\n",
        "        CREATE (m:Company {name:'Microsoft', founded:1975})\n",
        "        CREATE (o:Company {name:'OpenAI', founded:2015})\n",
        "        CREATE (p1:Person {name:'Bill Gates'})\n",
        "        CREATE (p2:Person {name:'Sam Altman'})\n",
        "        CREATE (m)-[:FOUNDED_BY]->(p1)\n",
        "        CREATE (o)-[:FOUNDED_BY]->(p2)\n",
        "    \"\"\")\n",
        "\n",
        "with driver.session() as session:\n",
        "    session.execute_write(create_graph)"
      ],
      "metadata": {
        "id": "F1jUXmBV1eQ_"
      },
      "execution_count": null,
      "outputs": []
    },
    {
      "cell_type": "code",
      "source": [
        "# 2️⃣ Query knowledge graph\n",
        "def get_company_facts(tx, company_name):\n",
        "    q = \"\"\"\n",
        "        MATCH (c:Company {name:$company})-[r:FOUNDED_BY]->(p:Person)\n",
        "        RETURN c.name AS company, c.founded AS founded, collect(p.name) AS founders\n",
        "    \"\"\"\n",
        "    result = tx.run(q, company=company_name)\n",
        "    return [r.data() for r in result]\n",
        "\n",
        "with driver.session() as session:\n",
        "    facts = session.execute_read(get_company_facts, \"OpenAI\")"
      ],
      "metadata": {
        "id": "nmKf_Mbo1gZH"
      },
      "execution_count": null,
      "outputs": []
    },
    {
      "cell_type": "code",
      "source": [
        "# 3️⃣ Simple generation\n",
        "def generate_answer(facts):\n",
        "    if not facts:\n",
        "        return \"No data found.\"\n",
        "    f = facts[0]\n",
        "    return f\"{f['company']} was founded in {f['founded']} by {', '.join(f['founders'])}.\"\n",
        "\n",
        "print(generate_answer(facts))\n",
        "driver.close()"
      ],
      "metadata": {
        "colab": {
          "base_uri": "https://localhost:8080/",
          "height": 341
        },
        "id": "db4veLUguHWE",
        "outputId": "9adfbf00-e2b2-491c-a08b-83b88a02113d"
      },
      "execution_count": null,
      "outputs": [
        {
          "output_type": "error",
          "ename": "SecretNotFoundError",
          "evalue": "Secret NEO4J_URI does not exist.",
          "traceback": [
            "\u001b[0;31m---------------------------------------------------------------------------\u001b[0m",
            "\u001b[0;31mSecretNotFoundError\u001b[0m                       Traceback (most recent call last)",
            "\u001b[0;32m/tmp/ipython-input-3012270833.py\u001b[0m in \u001b[0;36m<cell line: 0>\u001b[0;34m()\u001b[0m\n\u001b[1;32m      8\u001b[0m \u001b[0;34m\u001b[0m\u001b[0m\n\u001b[1;32m      9\u001b[0m \u001b[0;31m# Get Neo4j connection details from environment variables\u001b[0m\u001b[0;34m\u001b[0m\u001b[0;34m\u001b[0m\u001b[0m\n\u001b[0;32m---> 10\u001b[0;31m \u001b[0muri\u001b[0m \u001b[0;34m=\u001b[0m \u001b[0muserdata\u001b[0m\u001b[0;34m.\u001b[0m\u001b[0mget\u001b[0m\u001b[0;34m(\u001b[0m\u001b[0;34m'NEO4J_URI'\u001b[0m\u001b[0;34m)\u001b[0m\u001b[0;34m\u001b[0m\u001b[0;34m\u001b[0m\u001b[0m\n\u001b[0m\u001b[1;32m     11\u001b[0m \u001b[0muser\u001b[0m \u001b[0;34m=\u001b[0m \u001b[0muserdata\u001b[0m\u001b[0;34m.\u001b[0m\u001b[0mget\u001b[0m\u001b[0;34m(\u001b[0m\u001b[0;34m'NEO4J_USER'\u001b[0m\u001b[0;34m)\u001b[0m\u001b[0;34m\u001b[0m\u001b[0;34m\u001b[0m\u001b[0m\n\u001b[1;32m     12\u001b[0m \u001b[0mpassword\u001b[0m \u001b[0;34m=\u001b[0m \u001b[0muserdata\u001b[0m\u001b[0;34m.\u001b[0m\u001b[0mget\u001b[0m\u001b[0;34m(\u001b[0m\u001b[0;34m'NEO4J_PASSWORD'\u001b[0m\u001b[0;34m)\u001b[0m\u001b[0;34m\u001b[0m\u001b[0;34m\u001b[0m\u001b[0m\n",
            "\u001b[0;32m/usr/local/lib/python3.12/dist-packages/google/colab/userdata.py\u001b[0m in \u001b[0;36mget\u001b[0;34m(key)\u001b[0m\n\u001b[1;32m     66\u001b[0m     \u001b[0;32mraise\u001b[0m \u001b[0mTimeoutException\u001b[0m\u001b[0;34m(\u001b[0m\u001b[0mkey\u001b[0m\u001b[0;34m)\u001b[0m\u001b[0;34m\u001b[0m\u001b[0;34m\u001b[0m\u001b[0m\n\u001b[1;32m     67\u001b[0m   \u001b[0;32mif\u001b[0m \u001b[0;32mnot\u001b[0m \u001b[0mresp\u001b[0m\u001b[0;34m.\u001b[0m\u001b[0mget\u001b[0m\u001b[0;34m(\u001b[0m\u001b[0;34m'exists'\u001b[0m\u001b[0;34m,\u001b[0m \u001b[0;32mFalse\u001b[0m\u001b[0;34m)\u001b[0m\u001b[0;34m:\u001b[0m\u001b[0;34m\u001b[0m\u001b[0;34m\u001b[0m\u001b[0m\n\u001b[0;32m---> 68\u001b[0;31m     \u001b[0;32mraise\u001b[0m \u001b[0mSecretNotFoundError\u001b[0m\u001b[0;34m(\u001b[0m\u001b[0mkey\u001b[0m\u001b[0;34m)\u001b[0m\u001b[0;34m\u001b[0m\u001b[0;34m\u001b[0m\u001b[0m\n\u001b[0m\u001b[1;32m     69\u001b[0m   \u001b[0;32mif\u001b[0m \u001b[0;32mnot\u001b[0m \u001b[0mresp\u001b[0m\u001b[0;34m.\u001b[0m\u001b[0mget\u001b[0m\u001b[0;34m(\u001b[0m\u001b[0;34m'access'\u001b[0m\u001b[0;34m,\u001b[0m \u001b[0;32mFalse\u001b[0m\u001b[0;34m)\u001b[0m\u001b[0;34m:\u001b[0m\u001b[0;34m\u001b[0m\u001b[0;34m\u001b[0m\u001b[0m\n\u001b[1;32m     70\u001b[0m     \u001b[0;32mraise\u001b[0m \u001b[0mNotebookAccessError\u001b[0m\u001b[0;34m(\u001b[0m\u001b[0mkey\u001b[0m\u001b[0;34m)\u001b[0m\u001b[0;34m\u001b[0m\u001b[0;34m\u001b[0m\u001b[0m\n",
            "\u001b[0;31mSecretNotFoundError\u001b[0m: Secret NEO4J_URI does not exist."
          ]
        }
      ]
    }
  ]
}