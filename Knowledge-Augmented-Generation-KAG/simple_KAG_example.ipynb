{
  "nbformat": 4,
  "nbformat_minor": 0,
  "metadata": {
    "colab": {
      "provenance": []
    },
    "kernelspec": {
      "name": "python3",
      "display_name": "Python 3"
    },
    "language_info": {
      "name": "python"
    }
  },
  "cells": [
    {
      "cell_type": "code",
      "execution_count": 1,
      "metadata": {
        "colab": {
          "base_uri": "https://localhost:8080/"
        },
        "id": "3UaTszYltov4",
        "outputId": "a5c4b527-6968-43f3-9737-a7498fe69dad"
      },
      "outputs": [
        {
          "output_type": "stream",
          "name": "stdout",
          "text": [
            "Q: When was Microsoft founded?\n",
            "Answer based on structured knowledge:\n",
            "Microsoft's founded is 1975.\n",
            "------------------------------------------------------------\n",
            "Q: Who founded OpenAI?\n",
            "Answer based on structured knowledge:\n",
            "OpenAI's founded is 2015.\n",
            "------------------------------------------------------------\n",
            "Q: Where is Google headquartered?\n",
            "Answer based on structured knowledge:\n",
            "Known facts about Google: {'founded': '1998', 'founders': ['Larry Page', 'Sergey Brin'], 'headquarters': 'Mountain View, California, USA', 'products': ['Search', 'Android', 'YouTube', 'Cloud']}\n",
            "------------------------------------------------------------\n",
            "Q: List products from Microsoft.\n",
            "Answer based on structured knowledge:\n",
            "Microsoft's products is ['Windows', 'Azure', 'Office', 'GitHub'].\n",
            "------------------------------------------------------------\n"
          ]
        }
      ],
      "source": [
        "# -----------------------------\n",
        "# 1️⃣  Define a simple Knowledge Graph (structured knowledge)\n",
        "# -----------------------------\n",
        "knowledge_graph = {\n",
        "    \"Microsoft\": {\n",
        "        \"founded\": \"1975\",\n",
        "        \"founders\": [\"Bill Gates\", \"Paul Allen\"],\n",
        "        \"headquarters\": \"Redmond, Washington, USA\",\n",
        "        \"products\": [\"Windows\", \"Azure\", \"Office\", \"GitHub\"]\n",
        "    },\n",
        "    \"Google\": {\n",
        "        \"founded\": \"1998\",\n",
        "        \"founders\": [\"Larry Page\", \"Sergey Brin\"],\n",
        "        \"headquarters\": \"Mountain View, California, USA\",\n",
        "        \"products\": [\"Search\", \"Android\", \"YouTube\", \"Cloud\"]\n",
        "    },\n",
        "    \"OpenAI\": {\n",
        "        \"founded\": \"2015\",\n",
        "        \"founders\": [\"Elon Musk\", \"Sam Altman\", \"Greg Brockman\"],\n",
        "        \"headquarters\": \"San Francisco, California, USA\",\n",
        "        \"products\": [\"GPT\", \"DALL-E\", \"ChatGPT\"]\n",
        "    }\n",
        "}\n",
        "\n",
        "# -----------------------------\n",
        "# 2️⃣  A simple knowledge retriever\n",
        "# -----------------------------\n",
        "def query_knowledge(entity, attribute=None):\n",
        "    \"\"\"Retrieve information from the knowledge graph.\"\"\"\n",
        "    entity_data = knowledge_graph.get(entity)\n",
        "    if not entity_data:\n",
        "        return f\"Sorry, I have no data about {entity}.\"\n",
        "    if attribute:\n",
        "        value = entity_data.get(attribute)\n",
        "        if value:\n",
        "            return f\"{entity}'s {attribute} is {value}.\"\n",
        "        else:\n",
        "            return f\"No attribute '{attribute}' found for {entity}.\"\n",
        "    else:\n",
        "        return f\"Known facts about {entity}: {entity_data}\"\n",
        "\n",
        "# -----------------------------\n",
        "# 3️⃣  A simple natural language parser\n",
        "# -----------------------------\n",
        "def parse_query(query):\n",
        "    query = query.lower()\n",
        "    for entity in knowledge_graph:\n",
        "        if entity.lower() in query:\n",
        "            # identify attribute being asked\n",
        "            for attr in [\"founded\", \"founders\", \"headquarters\", \"products\"]:\n",
        "                if attr in query:\n",
        "                    return entity, attr\n",
        "            return entity, None\n",
        "    return None, None\n",
        "\n",
        "# -----------------------------\n",
        "# 4️⃣  Simulated KAG workflow\n",
        "# -----------------------------\n",
        "def knowledge_augmented_generation(query):\n",
        "    entity, attribute = parse_query(query)\n",
        "    if not entity:\n",
        "        return \"Sorry, I don't have that information in my knowledge base.\"\n",
        "\n",
        "    # Step 1: Retrieve knowledge\n",
        "    knowledge = query_knowledge(entity, attribute)\n",
        "\n",
        "    # Step 2: Generate final answer (simulate LLM synthesis)\n",
        "    answer = f\"Answer based on structured knowledge:\\n{knowledge}\"\n",
        "    return answer\n",
        "\n",
        "# -----------------------------\n",
        "# 5️⃣  Try it out\n",
        "# -----------------------------\n",
        "questions = [\n",
        "    \"When was Microsoft founded?\",\n",
        "    \"Who founded OpenAI?\",\n",
        "    \"Where is Google headquartered?\",\n",
        "    \"List products from Microsoft.\"\n",
        "]\n",
        "\n",
        "for q in questions:\n",
        "    print(f\"Q: {q}\")\n",
        "    print(knowledge_augmented_generation(q))\n",
        "    print(\"-\" * 60)\n"
      ]
    }
  ]
}